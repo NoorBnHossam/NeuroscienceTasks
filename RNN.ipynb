{
  "metadata": {
    "kernelspec": {
      "name": "python",
      "display_name": "Python (Pyodide)",
      "language": "python"
    },
    "language_info": {
      "codemirror_mode": {
        "name": "python",
        "version": 3
      },
      "file_extension": ".py",
      "mimetype": "text/x-python",
      "name": "python",
      "nbconvert_exporter": "python",
      "pygments_lexer": "ipython3",
      "version": "3.8"
    }
  },
  "nbformat_minor": 5,
  "nbformat": 4,
  "cells": [
    {
      "id": "42cd8bc0-e585-4998-a3e1-db91bef2cae2",
      "cell_type": "code",
      "source": "import numpy as np\n\nnp.random.seed(42)\nvocab = [\"Reading\", \"books\", \"enhances\", \"knowledge\"]\nvocab_size = len(vocab)\nhidden_size = 3 \noutput_size = vocab_size \n",
      "metadata": {
        "trusted": true
      },
      "outputs": [],
      "execution_count": 12
    },
    {
      "id": "2e96a753-cfd3-4570-941d-102772bb76a6",
      "cell_type": "code",
      "source": "word_to_one_hot = {word: np.eye(vocab_size)[i] for i, word in enumerate(vocab)}\nsequence = [\"Reading\", \"books\", \"enhances\", \"knowledge\"]\ninput_seq = [word_to_one_hot[word] for word in sequence[:3]]\ntarget = word_to_one_hot[\"knowledge\"] \n\nW_h = np.random.randn(hidden_size, hidden_size) * 0.01  \nW_x = np.random.randn(hidden_size, vocab_size) * 0.01  \nW_y = np.random.randn(vocab_size, hidden_size) * 0.01  ",
      "metadata": {
        "trusted": true
      },
      "outputs": [],
      "execution_count": 13
    },
    {
      "id": "2aebfbd1-d4db-4828-85bb-5dfeea5042d1",
      "cell_type": "code",
      "source": "# Hyperparameters\nlearning_rate = 0.01\nepochs = 1000\n\n# Activation functions\ndef tanh(x):\n    return np.tanh(x)\n\ndef softmax(x):\n    exp_x = np.exp(x - np.max(x))  #\n    return exp_x / np.sum(exp_x)",
      "metadata": {
        "trusted": true
      },
      "outputs": [],
      "execution_count": 14
    },
    {
      "id": "9590feda-1290-41de-9079-de442ffc9193",
      "cell_type": "code",
      "source": "def forward_propagation(inputs):\n    h_prev = np.zeros((hidden_size, 1))\n    h_states = [] \n    a_states = [] \n    outputs = [] \n    \n    for x_t in inputs:\n        x_t = x_t.reshape(-1, 1)  \n        a_t = np.dot(W_h, h_prev) + np.dot(W_x, x_t)\n        h_t = tanh(a_t)\n        y_t = softmax(np.dot(W_y, h_t))\n        \n        h_states.append(h_t)\n        a_states.append(a_t)\n        outputs.append(y_t)\n        h_prev = h_t  \n    \n    return h_states, a_states, outputs, h_prev",
      "metadata": {
        "trusted": true
      },
      "outputs": [],
      "execution_count": 15
    },
    {
      "id": "b629eb2b-600f-4172-98df-a41e6eab972b",
      "cell_type": "code",
      "source": "# (Mean Squared Error)\ndef compute_loss(predicted, target):\n    return np.mean((predicted - target) ** 2)",
      "metadata": {
        "trusted": true
      },
      "outputs": [],
      "execution_count": 16
    },
    {
      "id": "5f5549d4-dbc0-4031-b848-a985b53ed8e2",
      "cell_type": "code",
      "source": "def backpropagation(inputs, target, h_states, a_states, outputs):\n    global W_h, W_x, W_y\n    target = target.reshape(-1, 1) \n    \n    dW_h = np.zeros_like(W_h)\n    dW_x = np.zeros_like(W_x)\n    dW_y = np.zeros_like(W_y)\n    dh_next = np.zeros((hidden_size, 1))\n    \n    for t in range(len(inputs) - 1, -1, -1):\n        y_t = outputs[t]\n        h_t = h_states[t]\n        a_t = a_states[t]\n        x_t = inputs[t].reshape(-1, 1)\n        dy = 2 * (y_t - target) / len(y_t)  \n        dW_y += np.dot(dy, h_t.T)\n        dh = np.dot(W_y.T, dy) + dh_next\n        da = dh * (1 - h_t ** 2) \n        h_prev = h_states[t-1] if t > 0 else np.zeros((hidden_size, 1))\n        dW_h += np.dot(da, h_prev.T)\n        dW_x += np.dot(da, x_t.T)\n        dh_next = np.dot(W_h.T, da)\n        \n    for dparam in [dW_h, dW_x, dW_y]:\n        np.clip(dparam, -5, 5, out=dparam)\n    \n    return dW_h, dW_x, dW_y",
      "metadata": {
        "trusted": true
      },
      "outputs": [],
      "execution_count": 17
    },
    {
      "id": "25f2a7ea-762f-42ee-b07e-b3afbc8aea57",
      "cell_type": "code",
      "source": "# Training \nfor epoch in range(epochs):\n    h_states, a_states, outputs, h_prev = forward_propagation(input_seq)\n    loss = compute_loss(outputs[-1], target)\n    dW_h, dW_x, dW_y = backpropagation(input_seq, target, h_states, a_states, outputs)\n    W_h -= learning_rate * dW_h\n    W_x -= learning_rate * dW_x\n    W_y -= learning_rate * dW_y\n    if epoch % 100 == 0:\n        print(f\"Epoch {epoch}, Loss: {loss:.6f}\")\n",
      "metadata": {
        "trusted": true
      },
      "outputs": [
        {
          "name": "stdout",
          "output_type": "stream",
          "text": "Epoch 0, Loss: 0.187500\nEpoch 100, Loss: 0.187500\nEpoch 200, Loss: 0.187500\nEpoch 300, Loss: 0.187500\nEpoch 400, Loss: 0.187501\nEpoch 500, Loss: 0.187511\nEpoch 600, Loss: 0.187758\nEpoch 700, Loss: 0.195221\nEpoch 800, Loss: 0.267010\nEpoch 900, Loss: 0.322660\n"
        }
      ],
      "execution_count": 18
    },
    {
      "id": "a2cc73a6-a10d-4404-889c-ba27d4247f81",
      "cell_type": "code",
      "source": "h_states, a_states, outputs, h_prev = forward_propagation(input_seq)\npredicted = outputs[-1].flatten()\npredicted_word = vocab[np.argmax(predicted)]\nprint(\"\\nInput sequence:\", sequence[:3])\nprint(\"Target word:\", sequence[3])\nprint(\"Predicted word:\", predicted_word)\nprint(\"Prediction probabilities:\", predicted)",
      "metadata": {
        "trusted": true
      },
      "outputs": [
        {
          "name": "stdout",
          "output_type": "stream",
          "text": "\n ['Reading', 'books', 'enhances']\nTarget word: knowledge\nPredicted word: knowledge\nPrediction probabilities: [0.0220149  0.02201583 0.02189233 0.93407694]\n"
        }
      ],
      "execution_count": 19
    },
    {
      "id": "797616f2-3021-4b28-a1df-f0606122e20c",
      "cell_type": "code",
      "source": "",
      "metadata": {
        "trusted": true
      },
      "outputs": [],
      "execution_count": null
    },
    {
      "id": "0d98b077-cf09-40f4-b13e-502e19eb9788",
      "cell_type": "code",
      "source": "",
      "metadata": {
        "trusted": true
      },
      "outputs": [],
      "execution_count": null
    },
    {
      "id": "53ff5ff9-976e-418c-a290-6e174ce67344",
      "cell_type": "code",
      "source": "",
      "metadata": {
        "trusted": true
      },
      "outputs": [],
      "execution_count": null
    }
  ]
}