{
 "cells": [
  {
   "cell_type": "code",
   "execution_count": null,
   "id": "40b84243",
   "metadata": {},
   "outputs": [],
   "source": [
    "\n"
   ]
  },
  {
   "cell_type": "code",
   "execution_count": 1,
   "id": "301db099",
   "metadata": {},
   "outputs": [
    {
     "name": "stdout",
     "output_type": "stream",
     "text": [
      "Training the network...\n",
      "Predicted outputs after training: [0.010006178519125554, 0.9870905052703242]\n",
      "Target outputs: [0.01, 0.99]\n"
     ]
    }
   ],
   "source": [
    "import random\n",
    "import math\n",
    "\n",
    "\n",
    "def tanh(x):\n",
    "    return (math.exp(x) - math.exp(-x)) / (math.exp(x) + math.exp(-x))\n",
    "\n",
    "def tanh_derivative(x):\n",
    "    return 1 - tanh(x) ** 2\n",
    "\n",
    "class Neuron:\n",
    "    def __init__(self, num_inputs, bias):\n",
    "        self.weights = [random.uniform(-0.5, 0.5) for _ in range(num_inputs)]\n",
    "        self.bias = bias\n",
    "        self.output = 0\n",
    "        self.delta = 0\n",
    "        self.inputs = []\n",
    "\n",
    "    def activate(self, inputs):\n",
    "        self.inputs = inputs\n",
    "        weighted_sum = sum(w * x for w, x in zip(self.weights, inputs)) + self.bias\n",
    "        self.output = tanh(weighted_sum)\n",
    "        return self.output\n",
    "\n",
    "\n",
    "class NeuralNetwork:\n",
    "    def __init__(self):\n",
    "        self.hidden_layer = [Neuron(2, 0.5) for _ in range(2)]\n",
    "        self.output_layer = [Neuron(2, 0.7) for _ in range(2)]\n",
    "\n",
    "    def feed_forward(self, inputs):\n",
    "        hidden_outputs = [neuron.activate(inputs) for neuron in self.hidden_layer]\n",
    "        final_outputs = [neuron.activate(hidden_outputs) for neuron in self.output_layer]\n",
    "        return final_outputs\n",
    "\n",
    "    def backpropagate(self, inputs, targets, learning_rate):\n",
    "        # Step 1: Forward pass\n",
    "        hidden_outputs = [neuron.activate(inputs) for neuron in self.hidden_layer]\n",
    "        final_outputs = [neuron.activate(hidden_outputs) for neuron in self.output_layer]\n",
    "\n",
    "        for i, neuron in enumerate(self.output_layer):\n",
    "            error = targets[i] - final_outputs[i]\n",
    "            neuron.delta = error * tanh_derivative(neuron.output)\n",
    "\n",
    "\n",
    "        for i, neuron in enumerate(self.hidden_layer):\n",
    "            error = sum(self.output_layer[j].weights[i] * self.output_layer[j].delta \n",
    "                        for j in range(len(self.output_layer)))\n",
    "            neuron.delta = error * tanh_derivative(neuron.output)\n",
    "\n",
    "\n",
    "        for neuron in self.output_layer:\n",
    "            for j in range(len(neuron.weights)):\n",
    "                neuron.weights[j] += learning_rate * neuron.delta * hidden_outputs[j]\n",
    "            neuron.bias += learning_rate * neuron.delta\n",
    "        for neuron in self.hidden_layer:\n",
    "            for j in range(len(neuron.weights)):\n",
    "                neuron.weights[j] += learning_rate * neuron.delta * inputs[j]\n",
    "            neuron.bias += learning_rate * neuron.delta\n",
    "\n",
    "    def train(self, inputs, targets, epochs, learning_rate):\n",
    "        for _ in range(epochs):\n",
    "            self.backpropagate(inputs, targets, learning_rate)\n",
    "\n",
    "    def predict(self, inputs):\n",
    "        return self.feed_forward(inputs)\n",
    "\n",
    "\n",
    "def main():\n",
    "\n",
    "    network = NeuralNetwork()\n",
    "    inputs = [0.05, 0.10]\n",
    "    targets = [0.01, 0.99]\n",
    "\n",
    "\n",
    "    print(\"Training the network...\")\n",
    "    network.train(inputs, targets, epochs=1000, learning_rate=0.1)\n",
    "\n",
    "    # Test the trained network\n",
    "    outputs = network.predict(inputs)\n",
    "    print(f\"Predicted outputs after training: {outputs}\")\n",
    "    print(f\"Target outputs: {targets}\")\n",
    "\n",
    "if __name__ == \"__main__\":\n",
    "    main()"
   ]
  },
  {
   "cell_type": "code",
   "execution_count": null,
   "id": "c17c4a96",
   "metadata": {},
   "outputs": [],
   "source": []
  },
  {
   "cell_type": "code",
   "execution_count": null,
   "id": "e633a87c",
   "metadata": {},
   "outputs": [],
   "source": []
  },
  {
   "cell_type": "code",
   "execution_count": 8,
   "id": "246e3648",
   "metadata": {},
   "outputs": [],
   "source": []
  },
  {
   "cell_type": "code",
   "execution_count": null,
   "id": "ca59b5ce",
   "metadata": {},
   "outputs": [],
   "source": []
  }
 ],
 "metadata": {
  "kernelspec": {
   "display_name": "Python 3 (ipykernel)",
   "language": "python",
   "name": "python3"
  },
  "language_info": {
   "codemirror_mode": {
    "name": "ipython",
    "version": 3
   },
   "file_extension": ".py",
   "mimetype": "text/x-python",
   "name": "python",
   "nbconvert_exporter": "python",
   "pygments_lexer": "ipython3",
   "version": "3.9.13"
  }
 },
 "nbformat": 4,
 "nbformat_minor": 5
}
