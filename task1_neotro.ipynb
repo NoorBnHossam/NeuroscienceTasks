{
 "cells": [
  {
   "cell_type": "code",
   "execution_count": 4,
   "id": "40b84243",
   "metadata": {},
   "outputs": [],
   "source": [
    "import random\n",
    "import math"
   ]
  },
  {
   "cell_type": "code",
   "execution_count": 6,
   "id": "301db099",
   "metadata": {},
   "outputs": [],
   "source": [
    "def tanh(x):\n",
    "    return (math.exp(x) - math.exp(-x)) / (math.exp(x) + math.exp(-x))\n",
    "\n",
    "class Neuron:\n",
    "    def __init__(self, num_inputs, bias):\n",
    "        # initialize weights\n",
    "        self.weights = [random.uniform(-0.5, 0.5) for _ in range(num_inputs)]\n",
    "        self.bias = bias\n",
    "        self.output = 0\n",
    "        self.delta = 0\n",
    "\n",
    "    def activate(self, inputs):\n",
    "        # calculate the weights & adding bias\n",
    "        weighted_sum = sum(w * x for w, x in zip(self.weights, inputs))\n",
    "        weighted_sum += self.bias\n",
    "        self.output = tanh(weighted_sum)\n",
    "        return self.output\n"
   ]
  },
  {
   "cell_type": "code",
   "execution_count": 7,
   "id": "c17c4a96",
   "metadata": {},
   "outputs": [],
   "source": [
    "class NeuralNetwork:\n",
    "    def __init__(self):\n",
    "        self.hidden_layer = [Neuron(2, 0.5) for _ in range(2)]\n",
    "        self.output_layer = [Neuron(2, 0.7) for _ in range(2)]\n",
    "\n",
    "    def forward_pass(self, inputs):\n",
    "        hidden_outputs = [neuron.activate(inputs) for neuron in self.hidden_layer]\n",
    "        final_outputs = [neuron.activate(hidden_outputs) for neuron in self.output_layer]\n",
    "        return hidden_outputs, final_outputs\n",
    "\n",
    "    def print_structure_and_results(self, inputs):\n",
    "        hidden_outputs, final_outputs = self.forward_pass(inputs)\n",
    "        print(\"Neural Network Structure and Results:\")\n",
    "        print(\"-\" * 50)\n",
    "        print(f\"Input values: {inputs}\")\n",
    "        print(\"\\nHidden Layer (2 neurons, bias=0.5):\")\n",
    "        for i, neuron in enumerate(self.hidden_layer):\n",
    "            print(f\"Neuron {i+1} weights: {[f'{w:.6f}' for w in neuron.weights]}\")\n",
    "            print(f\"Neuron {i+1} output: {neuron.output:.6f}\")\n",
    "        print(\"\\nOutput Layer (2 neurons, bias=0.7):\")\n",
    "        for i, neuron in enumerate(self.output_layer):\n",
    "            print(f\"Neuron {i+1} weights: {[f'{w:.6f}' for w in neuron.weights]}\")\n",
    "            print(f\"Neuron {i+1} output: {neuron.output:.6f}\")\n",
    "\n"
   ]
  },
  {
   "cell_type": "code",
   "execution_count": 4,
   "id": "e633a87c",
   "metadata": {},
   "outputs": [
    {
     "name": "stdout",
     "output_type": "stream",
     "text": [
      "Neural Network Structure and Results:\n",
      "--------------------------------------------------\n",
      "Input values: [0.1, 0.2]\n",
      "\n",
      "Hidden Layer (2 neurons, bias=0.5):\n",
      "Neuron 1 weights: ['0.448078', '0.434126']\n",
      "Neuron 1 output: 0.559176\n",
      "Neuron 2 weights: ['-0.457230', '-0.132561']\n",
      "Neuron 2 output: 0.403452\n",
      "\n",
      "Output Layer (2 neurons, bias=0.7):\n",
      "Neuron 1 weights: ['-0.281691', '-0.357183']\n",
      "Neuron 1 output: 0.378561\n",
      "Neuron 2 weights: ['-0.262145', '0.444074']\n",
      "Neuron 2 output: 0.624640\n"
     ]
    }
   ],
   "source": [
    "def main():\n",
    "\n",
    "    network = NeuralNetwork()\n",
    "    inputs = [0.1, 0.2]\n",
    "    network.print_structure_and_results(inputs)\n",
    "\n",
    "if __name__ == \"__main__\":\n",
    "    main()\n",
    "\n",
    "## we can add random.seed(42) to make the data donot change every run time but i made it randomly"
   ]
  },
  {
   "cell_type": "code",
   "execution_count": null,
   "id": "246e3648",
   "metadata": {},
   "outputs": [],
   "source": [
    "# Class 2 because it was bigger but we need to make backpropagation (nextLec)"
   ]
  },
  {
   "cell_type": "markdown",
   "id": "48a4ac78",
   "metadata": {},
   "source": [
    "![Task1](assets/neoro1.png)"
   ]
  },
  {
   "cell_type": "code",
   "execution_count": null,
   "id": "ca59b5ce",
   "metadata": {},
   "outputs": [],
   "source": []
  }
 ],
 "metadata": {
  "kernelspec": {
   "display_name": "Python 3 (ipykernel)",
   "language": "python",
   "name": "python3"
  },
  "language_info": {
   "codemirror_mode": {
    "name": "ipython",
    "version": 3
   },
   "file_extension": ".py",
   "mimetype": "text/x-python",
   "name": "python",
   "nbconvert_exporter": "python",
   "pygments_lexer": "ipython3",
   "version": "3.9.13"
  }
 },
 "nbformat": 4,
 "nbformat_minor": 5
}
